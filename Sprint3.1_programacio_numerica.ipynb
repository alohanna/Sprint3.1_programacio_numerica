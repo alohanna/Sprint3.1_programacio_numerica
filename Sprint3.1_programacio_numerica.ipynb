{
 "cells": [
  {
   "cell_type": "code",
   "execution_count": 156,
   "id": "9bcc83f4",
   "metadata": {},
   "outputs": [],
   "source": [
    "from sklearn.datasets import load_iris\n",
    "import numpy as np\n",
    "\n",
    "iris = load_iris()\n",
    "data=iris.data\n",
    "target=iris.target\n",
    "features=iris.feature_names\n",
    "tnames=iris.target_names"
   ]
  },
  {
   "cell_type": "code",
   "execution_count": 160,
   "id": "6131ebdd",
   "metadata": {},
   "outputs": [
    {
     "data": {
      "text/plain": [
       "array(['setosa', 'versicolor', 'virginica'], dtype='<U10')"
      ]
     },
     "execution_count": 160,
     "metadata": {},
     "output_type": "execute_result"
    }
   ],
   "source": [
    "iris.target_names"
   ]
  },
  {
   "cell_type": "code",
   "execution_count": 199,
   "id": "47b371c3",
   "metadata": {},
   "outputs": [
    {
     "data": {
      "text/plain": [
       "array([0, 0, 0, 0, 0, 0, 0, 0, 0, 0, 0, 0, 0, 0, 0, 0, 0, 0, 0, 0, 0, 0,\n",
       "       0, 0, 0, 0, 0, 0, 0, 0, 0, 0, 0, 0, 0, 0, 0, 0, 0, 0, 0, 0, 0, 0,\n",
       "       0, 0, 0, 0, 0, 0, 1, 1, 1, 1, 1, 1, 1, 1, 1, 1, 1, 1, 1, 1, 1, 1,\n",
       "       1, 1, 1, 1, 1, 1, 1, 1, 1, 1, 1, 1, 1, 1, 1, 1, 1, 1, 1, 1, 1, 1,\n",
       "       1, 1, 1, 1, 1, 1, 1, 1, 1, 1, 1, 1, 2, 2, 2, 2, 2, 2, 2, 2, 2, 2,\n",
       "       2, 2, 2, 2, 2, 2, 2, 2, 2, 2, 2, 2, 2, 2, 2, 2, 2, 2, 2, 2, 2, 2,\n",
       "       2, 2, 2, 2, 2, 2, 2, 2, 2, 2, 2, 2, 2, 2, 2, 2, 2, 2])"
      ]
     },
     "execution_count": 199,
     "metadata": {},
     "output_type": "execute_result"
    }
   ],
   "source": [
    "iris.target"
   ]
  },
  {
   "cell_type": "code",
   "execution_count": 198,
   "id": "a61b142d",
   "metadata": {},
   "outputs": [
    {
     "data": {
      "text/plain": [
       "['sepal length (cm)',\n",
       " 'sepal width (cm)',\n",
       " 'petal length (cm)',\n",
       " 'petal width (cm)']"
      ]
     },
     "execution_count": 198,
     "metadata": {},
     "output_type": "execute_result"
    }
   ],
   "source": [
    "iris.feature_names"
   ]
  },
  {
   "cell_type": "code",
   "execution_count": 57,
   "id": "319227f2",
   "metadata": {},
   "outputs": [
    {
     "data": {
      "text/plain": [
       "array([[5.1, 3.5, 1.4, 0.2],\n",
       "       [4.9, 3. , 1.4, 0.2],\n",
       "       [4.7, 3.2, 1.3, 0.2],\n",
       "       [4.6, 3.1, 1.5, 0.2],\n",
       "       [5. , 3.6, 1.4, 0.2],\n",
       "       [5.4, 3.9, 1.7, 0.4],\n",
       "       [4.6, 3.4, 1.4, 0.3],\n",
       "       [5. , 3.4, 1.5, 0.2],\n",
       "       [4.4, 2.9, 1.4, 0.2],\n",
       "       [4.9, 3.1, 1.5, 0.1]])"
      ]
     },
     "execution_count": 57,
     "metadata": {},
     "output_type": "execute_result"
    }
   ],
   "source": [
    "#Exercici1\n",
    "#Carregar “data” i \"target\" del conjunt de dades, i visualitza els 10 primers registres de cadascun.\n",
    "\n",
    "data= iris['data'][:10]\n",
    "data"
   ]
  },
  {
   "cell_type": "code",
   "execution_count": 77,
   "id": "0d09e9e7",
   "metadata": {},
   "outputs": [
    {
     "data": {
      "text/plain": [
       "array([0, 0, 0, 0, 0, 0, 0, 0, 0, 0])"
      ]
     },
     "execution_count": 77,
     "metadata": {},
     "output_type": "execute_result"
    }
   ],
   "source": [
    "target=iris['target'][:10]\n",
    "target"
   ]
  },
  {
   "cell_type": "code",
   "execution_count": 161,
   "id": "636328ef",
   "metadata": {},
   "outputs": [
    {
     "name": "stdout",
     "output_type": "stream",
     "text": [
      "1\n",
      "2\n",
      "(150, 4)\n",
      "(150,)\n",
      "[[5.1 3.5 1.4 0.2 0. ]\n",
      " [4.9 3.  1.4 0.2 0. ]\n",
      " [4.7 3.2 1.3 0.2 0. ]\n",
      " [4.6 3.1 1.5 0.2 0. ]\n",
      " [5.  3.6 1.4 0.2 0. ]]\n"
     ]
    }
   ],
   "source": [
    "#Exercici2\n",
    "#Concatena “data” i “target” en un nou array. Mostra els 5 primers registres.\n",
    "\n",
    "print(target.ndim)\n",
    "print(data.ndim)\n",
    "\n",
    "print(data.shape)\n",
    "print(target.shape)\n",
    "\n",
    "data= iris['data']\n",
    "newtarget=iris['target'].reshape(-1,1)\n",
    "\n",
    "concat=np.concatenate((data,newtarget), axis=1)\n",
    "print(concat[:5])"
   ]
  },
  {
   "cell_type": "code",
   "execution_count": 214,
   "id": "91f2b45d",
   "metadata": {},
   "outputs": [
    {
     "name": "stdout",
     "output_type": "stream",
     "text": [
      "0.83\n",
      "1.76\n",
      "5.84\n",
      "3.76\n"
     ]
    }
   ],
   "source": [
    "#Exercici 3\n",
    "#Calcula la mitjana i desviació estàndard de la longitud del sèpal (\"sepal length (cm)\") \n",
    "#i la longitud del pètal (\"petal length (cm)\"). Mostra els resultats amb dos decimals.\n",
    "\n",
    "\n",
    "longitud_sepal = iris.data[:, 0] \n",
    "longitud_petal = iris.data[:, 2] \n",
    "\n",
    "desv_est1 = round(np.std(longitud_sepal),2) \n",
    "desv_est2 = round(np.std(longitud_petal),2) \n",
    "print(desv_est1)\n",
    "print(desv_est2)\n",
    "\n",
    "mitjana1 = round(np.mean(longitud_sepal),2)\n",
    "mitjana2 = round(np.mean(longitud_petal),2) \n",
    "print(mitjana1)\n",
    "print(mitjana2)\n",
    "\n",
    "#lista=np.array(iris[\"sepal length (cm)\"])\n",
    "#media=lista.mean()\n",
    "#desv_est= np.std()\n",
    "#print(mean)"
   ]
  },
  {
   "cell_type": "code",
   "execution_count": 162,
   "id": "e59789ff",
   "metadata": {},
   "outputs": [
    {
     "name": "stdout",
     "output_type": "stream",
     "text": [
      "[[5.7 4.4 1.5 0.4 0. ]\n",
      " [5.4 3.9 1.3 0.4 0. ]\n",
      " [4.3 3.  1.1 0.1 0. ]\n",
      " [5.  3.6 1.4 0.2 0. ]\n",
      " [4.6 3.4 1.4 0.3 0. ]\n",
      " [4.4 2.9 1.4 0.2 0. ]\n",
      " [5.8 4.  1.2 0.2 0. ]\n",
      " [5.4 3.7 1.5 0.2 0. ]\n",
      " [5.4 3.9 1.7 0.4 0. ]\n",
      " [4.6 3.1 1.5 0.2 0. ]\n",
      " [5.1 3.5 1.4 0.2 0. ]\n",
      " [4.9 3.  1.4 0.2 0. ]\n",
      " [5.1 3.8 1.5 0.3 0. ]\n",
      " [4.8 3.4 1.6 0.2 0. ]\n",
      " [5.  3.4 1.5 0.2 0. ]\n",
      " [4.9 3.1 1.5 0.1 0. ]\n",
      " [5.1 3.5 1.4 0.3 0. ]\n",
      " [4.7 3.2 1.3 0.2 0. ]\n",
      " [5.7 3.8 1.7 0.3 0. ]\n",
      " [4.8 3.  1.4 0.1 0. ]]\n"
     ]
    }
   ],
   "source": [
    "#Exercici 4\n",
    "#Selecciona una mostra aleatòria de 20 registres del conjunt que has obtingut en l'exercici anterior.\n",
    "\n",
    "from numpy import random\n",
    "\n",
    "arr = np.array(concat)[:20]\n",
    "print(random.permutation(arr))"
   ]
  },
  {
   "cell_type": "code",
   "execution_count": 197,
   "id": "08bd074e",
   "metadata": {},
   "outputs": [
    {
     "name": "stdout",
     "output_type": "stream",
     "text": [
      "Especie setosa:\n",
      "Media: [6.588 2.974 5.552 2.026]\n",
      "Desviación Estándar: [0.62948868 0.31925538 0.54634787 0.27188968]\n",
      "Especie versicolor:\n",
      "Media: [6.588 2.974 5.552 2.026]\n",
      "Desviación Estándar: [0.62948868 0.31925538 0.54634787 0.27188968]\n",
      "Especie virginica:\n",
      "Media: [6.588 2.974 5.552 2.026]\n",
      "Desviación Estándar: [0.62948868 0.31925538 0.54634787 0.27188968]\n"
     ]
    }
   ],
   "source": [
    "#Exercici 5\n",
    "#Crea una matriu que mostri: \n",
    "#La mitjana de cada característica per espècie. \n",
    "#La desviació estàndard de cada característica per espècie.\n",
    "\n",
    "iris = load_iris()\n",
    "data = iris.data  \n",
    "target = iris.target \n",
    "especies = np.unique(target)\n",
    "total_media=[]\n",
    "\n",
    "for tipus in especies:\n",
    "    data_specie = data[target == specie]\n",
    "    \n",
    "    media = np.mean(data_specie, axis=0)\n",
    "    desv_std = np.std(data_specie, axis=0)\n",
    "    \n",
    "    nombre_especie = iris.target_names[tipus]\n",
    "\n",
    "    print(f'Especie {nombre_especie}:')\n",
    "    print(f'Media: {media}')\n",
    "    print(f'Desviación Estándar: {desv_std}')\n",
    "    \n",
    "    "
   ]
  },
  {
   "cell_type": "code",
   "execution_count": 212,
   "id": "1a8b49fd",
   "metadata": {},
   "outputs": [
    {
     "name": "stdout",
     "output_type": "stream",
     "text": [
      "Especie setosa: 50 muestras\n",
      "Especie versicolor: 50 muestras\n",
      "Especie virginica: 50 muestras\n"
     ]
    }
   ],
   "source": [
    "#Exercici 6\n",
    "#Calcula la quantitat de mostres per espècie.\n",
    "\n",
    "cantidad_muestras=np.bincount(target)\n",
    "\n",
    "for tipus, cantidad in enumerate(cantidad_muestras):\n",
    "    nombre_especie = iris.target_names[tipus]\n",
    "    print(f'Especie {nombre_especie}: {cantidad} muestras')"
   ]
  },
  {
   "cell_type": "code",
   "execution_count": null,
   "id": "c91f4c35",
   "metadata": {},
   "outputs": [],
   "source": [
    "#Troba l'espècie amb el valor màxim mitjana de la variable \"sepal length (cm)\""
   ]
  },
  {
   "cell_type": "code",
   "execution_count": 292,
   "id": "ed90d22b",
   "metadata": {},
   "outputs": [
    {
     "name": "stdout",
     "output_type": "stream",
     "text": [
      "Especie setosa:\n",
      "Media de longitud del sépalo: 5.01\n",
      "\n",
      "La especie con el valor máximo es: setosa con un valor de: 5.01\n",
      "Especie versicolor:\n",
      "Media de longitud del sépalo: 5.94\n",
      "\n",
      "La especie con el valor máximo es: versicolor con un valor de: 5.94\n",
      "Especie virginica:\n",
      "Media de longitud del sépalo: 6.59\n",
      "\n",
      "La especie con el valor máximo es: virginica con un valor de: 6.59\n",
      "[5.01, 5.94, 6.59]\n"
     ]
    }
   ],
   "source": [
    "especies = np.unique(target)\n",
    "media_longitud=[]\n",
    "max_media = 0\n",
    "medias_longitud_total_sepal=[]\n",
    "\n",
    "for tipus in especies:\n",
    "    data_especie = data[target == tipus]\n",
    "    nombre_especie = iris.target_names[tipus]\n",
    "    longitud_sepal = data_especie[:, 0]\n",
    "    media_longitud = round(np.mean(longitud_sepal),2)\n",
    "\n",
    "    print(f'Especie {nombre_especie}:')\n",
    "    print(f\"Media de longitud del sépalo: {media_longitud}\")\n",
    "    \n",
    "    medias_longitud_total_sepal.append(media_longitud)\n",
    "   \n",
    "    if media_longitud>max_media:\n",
    "        max_media=media_longitud\n",
    "        print(f'\\nLa especie con el valor máximo es: {nombre_especie} con un valor de: {max_media}')\n",
    "\n",
    "print(medias_longitud_total_sepal)"
   ]
  },
  {
   "cell_type": "code",
   "execution_count": 242,
   "id": "0178b217",
   "metadata": {},
   "outputs": [
    {
     "name": "stdout",
     "output_type": "stream",
     "text": [
      "[[ 1.         -0.11756978  0.87175378  0.81794113]\n",
      " [-0.11756978  1.         -0.4284401  -0.36612593]\n",
      " [ 0.87175378 -0.4284401   1.          0.96286543]\n",
      " [ 0.81794113 -0.36612593  0.96286543  1.        ]]\n"
     ]
    }
   ],
   "source": [
    "#Exercici 7\n",
    "#Calcula la matriu de correlació entre les variables.\n",
    "\n",
    "correlacion=np.corrcoef(data, rowvar=False)\n",
    "print(correlacion)"
   ]
  },
  {
   "cell_type": "code",
   "execution_count": 258,
   "id": "8b8f9f6f",
   "metadata": {},
   "outputs": [
    {
     "name": "stdout",
     "output_type": "stream",
     "text": [
      "Media de longitud del petal: 3.76\n",
      "\n",
      "Els valors majors a la mitjana són: [4.7 4.5 4.9 4.  4.6 4.5 4.7 4.6 3.9 4.2 4.  4.7 4.4 4.5 4.1 4.5 3.9 4.8\n",
      " 4.  4.9 4.7 4.3 4.4 4.8 5.  4.5 3.8 3.9 5.1 4.5 4.5 4.7 4.4 4.1 4.  4.4\n",
      " 4.6 4.  4.2 4.2 4.2 4.3 4.1 6.  5.1 5.9 5.6 5.8 6.6 4.5 6.3 5.8 6.1 5.1\n",
      " 5.3 5.5 5.  5.1 5.3 5.5 6.7 6.9 5.  5.7 4.9 6.7 4.9 5.7 6.  4.8 4.9 5.6\n",
      " 5.8 6.1 6.4 5.6 5.1 5.6 6.1 5.6 5.5 4.8 5.4 5.6 5.1 5.1 5.9 5.7 5.2 5.\n",
      " 5.2 5.4 5.1]\n",
      "\n",
      "La mostra amb els pètals més grans es: [7.7 2.6 6.9 2.3]\n"
     ]
    }
   ],
   "source": [
    "#Filtra els valors majors a la mitjana de la longitud dels pètals i mostra-ho. \n",
    "\n",
    "longitud_petal=iris.data[:, 2]\n",
    "med_longitud_petal = np.mean(longitud_petal)\n",
    "print(f\"Media de longitud del petal: {med_longitud}\")\n",
    "\n",
    "valores_mayores=longitud_petal[longitud_petal>med_longitud_petal]\n",
    "print(f\"\\nEls valors majors a la mitjana són: {valores_mayores}\")\n",
    "\n",
    "\n",
    "#Troba la mostra amb els pètals més grans.\n",
    "indice_petal=np.argmax(longitud_petal)\n",
    "mas_grande=data[indice_petal,:]\n",
    "print (f\"\\nLa mostra amb els pètals més grans es: {mas_grande }\")\n"
   ]
  },
  {
   "cell_type": "code",
   "execution_count": 312,
   "id": "a3ec06f3",
   "metadata": {},
   "outputs": [
    {
     "name": "stdout",
     "output_type": "stream",
     "text": [
      "Longitud media setal: [5.01 5.94 6.59]\n",
      "Longitud media petal: [1.46, 4.26, 5.55]\n",
      "Diferencia de longitudes segun especies: [3.55 1.68 1.04]\n",
      "\n",
      "La especie con la mayor diferencia entre la longitud media de sépalos y pétalos es: setosa\n"
     ]
    }
   ],
   "source": [
    "#Ejercicio 8\n",
    "#Halla la especie con la mayor diferencia entre la longitud media de sépalos y pétalos.\n",
    "\n",
    "print(f'Longitud media setal: {medias_longitud_total_sepal}')\n",
    "\n",
    "medias_longitud_total_petal=[]\n",
    "\n",
    "for tipus in especies:\n",
    "    data_especie = data[target == tipus]\n",
    "    nombre_especie = iris.target_names[tipus]\n",
    "    longitud_petal = data_especie[:, 2]\n",
    "    media_longitud = round(np.mean(longitud_petal),2)\n",
    "    \n",
    "    medias_longitud_total_petal.append(media_longitud)\n",
    "\n",
    "print(f'Longitud media petal: {medias_longitud_total_petal}')\n",
    "\n",
    "diferencia=abs(medias_longitud_total_sepal-medias_longitud_total_petal)\n",
    "print(f'Diferencia de longitudes segun especies: {diferencia}')\n",
    "maximo=np.argmax(diferencia)\n",
    "iris.target_names[(maximo)]\n",
    "print(f'\\nLa especie con la mayor diferencia entre la longitud media de sépalos y pétalos es: {iris.target_names[(maximo)]}')\n",
    "\n"
   ]
  },
  {
   "cell_type": "code",
   "execution_count": null,
   "id": "1354a157",
   "metadata": {},
   "outputs": [],
   "source": []
  }
 ],
 "metadata": {
  "kernelspec": {
   "display_name": "Python 3 (ipykernel)",
   "language": "python",
   "name": "python3"
  },
  "language_info": {
   "codemirror_mode": {
    "name": "ipython",
    "version": 3
   },
   "file_extension": ".py",
   "mimetype": "text/x-python",
   "name": "python",
   "nbconvert_exporter": "python",
   "pygments_lexer": "ipython3",
   "version": "3.11.5"
  }
 },
 "nbformat": 4,
 "nbformat_minor": 5
}
